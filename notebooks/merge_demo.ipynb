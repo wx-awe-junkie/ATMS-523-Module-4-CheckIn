{
  "cells": [
    {
      "cell_type": "markdown",
      "metadata": {},
      "source": [
        "# Cloud merge demo: NOAA ISD + GHCN\n",
        "We'll read two datasets directly from the cloud and perform a simple merge using rounded lat/lon keys.\n",
        "\n",
        "- ISD metadata (CSV): `https://noaa-isd-pds.s3.amazonaws.com/isd-history.csv`\n",
        "- GHCN stations (fixed-width): `https://noaa-ghcn-pds.s3.amazonaws.com/ghcnd-stations.txt`\n",
        "\n",
        "> For production work, use a spatial join or consistent IDs.\n"
      ]
    },
    {
      "cell_type": "code",
      "execution_count": 1,
      "id": "fc45814a",
      "metadata": {},
      "outputs": [
        {
          "ename": "AssertionError",
          "evalue": "Can't find /Users/meganwalker/MDW Docs/Academic/Univ Illinois/ATMS 523/module4/ATMS-523-Module-4-CheckIn/src/dfmerge/merge.py",
          "output_type": "error",
          "traceback": [
            "\u001b[31m---------------------------------------------------------------------------\u001b[39m",
            "\u001b[31mAssertionError\u001b[39m                            Traceback (most recent call last)",
            "\u001b[36mCell\u001b[39m\u001b[36m \u001b[39m\u001b[32mIn[1]\u001b[39m\u001b[32m, line 9\u001b[39m\n\u001b[32m      7\u001b[39m PROJECT_ROOT = NB_DIR.parent              \u001b[38;5;66;03m# project/\u001b[39;00m\n\u001b[32m      8\u001b[39m SRC = PROJECT_ROOT / \u001b[33m\"\u001b[39m\u001b[33msrc\u001b[39m\u001b[33m\"\u001b[39m                \u001b[38;5;66;03m# project/src\u001b[39;00m\n\u001b[32m----> \u001b[39m\u001b[32m9\u001b[39m \u001b[38;5;28;01massert\u001b[39;00m (SRC / \u001b[33m\"\u001b[39m\u001b[33mdfmerge\u001b[39m\u001b[33m\"\u001b[39m / \u001b[33m\"\u001b[39m\u001b[33mmerge.py\u001b[39m\u001b[33m\"\u001b[39m).exists(), \u001b[33mf\u001b[39m\u001b[33m\"\u001b[39m\u001b[33mCan\u001b[39m\u001b[33m'\u001b[39m\u001b[33mt find \u001b[39m\u001b[38;5;132;01m{\u001b[39;00mSRC/\u001b[33m'\u001b[39m\u001b[33mdfmerge/merge.py\u001b[39m\u001b[33m'\u001b[39m\u001b[38;5;132;01m}\u001b[39;00m\u001b[33m\"\u001b[39m\n\u001b[32m     11\u001b[39m \u001b[38;5;28;01mif\u001b[39;00m \u001b[38;5;28mstr\u001b[39m(SRC) \u001b[38;5;129;01mnot\u001b[39;00m \u001b[38;5;129;01min\u001b[39;00m sys.path:\n\u001b[32m     12\u001b[39m     sys.path.insert(\u001b[32m0\u001b[39m, \u001b[38;5;28mstr\u001b[39m(SRC))          \u001b[38;5;66;03m# put src on the import path\u001b[39;00m\n",
            "\u001b[31mAssertionError\u001b[39m: Can't find /Users/meganwalker/MDW Docs/Academic/Univ Illinois/ATMS 523/module4/ATMS-523-Module-4-CheckIn/src/dfmerge/merge.py"
          ]
        }
      ],
      "source": [
        "# Run this FIRST in the notebook\n",
        "import sys\n",
        "from pathlib import Path\n",
        "\n",
        "# notebook cwd = project/notebooks\n",
        "NB_DIR = Path.cwd().resolve()\n",
        "PROJECT_ROOT = NB_DIR.parent              # project/\n",
        "SRC = PROJECT_ROOT / \"src\"                # project/src\n",
        "assert (SRC / \"dfmerge\" / \"merge.py\").exists(), f\"Can't find {SRC/'dfmerge/merge.py'}\"\n",
        "\n",
        "if str(SRC) not in sys.path:\n",
        "    sys.path.insert(0, str(SRC))          # put src on the import path\n",
        "\n",
        "from dfmerge.merge import read_table, read_ghcn_stations, merge_frames"
      ]
    },
    {
      "cell_type": "code",
      "execution_count": null,
      "metadata": {},
      "outputs": [],
      "source": [
        "import pandas as pd\n",
        "from dfmerge import read_table, read_ghcn_stations, merge_frames\n",
        "isd_url = 'https://noaa-isd-pds.s3.amazonaws.com/isd-history.csv'\n",
        "ghcn_url = 'https://noaa-ghcn-pds.s3.amazonaws.com/ghcnd-stations.txt'\n",
        "isd = read_table(isd_url)\n",
        "ghcn = read_ghcn_stations(ghcn_url)\n",
        "isd = isd.rename(columns={'USAF':'usaf','WBAN':'wban','STATION NAME':'station_name','CTRY':'country','LAT':'lat','LON':'lon'})\n",
        "isd = isd[['usaf','wban','station_name','country','lat','lon']].dropna(subset=['lat','lon'])\n",
        "ghcn = ghcn[['station_id','name','state','lat','lon']].dropna(subset=['lat','lon'])\n",
        "for df in (isd, ghcn):\n",
        "    df['lat_round'] = df['lat'].round(2)\n",
        "    df['lon_round'] = df['lon'].round(2)\n",
        "merged = merge_frames(isd, ghcn, left_on=['lat_round','lon_round'], right_on=['lat_round','lon_round'], how='inner', indicator=True)\n",
        "merged.attrs['merge_info'], merged.head()"
      ]
    },
    {
      "cell_type": "code",
      "execution_count": null,
      "metadata": {},
      "outputs": [],
      "source": [
        "outer = merge_frames(isd, ghcn, left_on=['lat_round','lon_round'], right_on=['lat_round','lon_round'], how='outer', indicator=True)\n",
        "outer.attrs['merge_info'], outer['_merge'].value_counts().to_frame('count')"
      ]
    }
  ],
  "metadata": {
    "kernelspec": {
      "display_name": "xarray-climate",
      "language": "python",
      "name": "python3"
    },
    "language_info": {
      "codemirror_mode": {
        "name": "ipython",
        "version": 3
      },
      "file_extension": ".py",
      "mimetype": "text/x-python",
      "name": "python",
      "nbconvert_exporter": "python",
      "pygments_lexer": "ipython3",
      "version": "3.13.7"
    }
  },
  "nbformat": 4,
  "nbformat_minor": 5
}
